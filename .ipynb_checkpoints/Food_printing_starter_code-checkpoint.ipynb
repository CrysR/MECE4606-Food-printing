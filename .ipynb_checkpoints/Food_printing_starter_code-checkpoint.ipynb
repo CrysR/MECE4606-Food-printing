{
 "cells": [
  {
   "cell_type": "markdown",
   "metadata": {
    "colab_type": "text",
    "id": "view-in-github"
   },
   "source": [
    "<a href=\"https://colab.research.google.com/github/boxiXia/MECE4606-Food-printing/blob/master/Food_printing_starter_code.ipynb\" target=\"_parent\"><img src=\"https://colab.research.google.com/assets/colab-badge.svg\" alt=\"Open In Colab\"/></a>"
   ]
  },
  {
   "cell_type": "markdown",
   "metadata": {
    "colab_type": "text",
    "id": "WMGfDo2q-eg7"
   },
   "source": [
    "# Food printing starter code"
   ]
  },
  {
   "cell_type": "markdown",
   "metadata": {
    "colab_type": "text",
    "id": "wCgWSrpF-eg9"
   },
   "source": [
    "# reference for the syringe tip\n",
    "![alt text](https://images-na.ssl-images-amazon.com/images/I/6192oSnVBxL._SL1006_.jpg \"syringe tip reference\")\n",
    "[reference](https://www.amazon.com/dp/B01I1APLIG/?coliid=I1H323R2GGYV4D&colid=1VE48W9F0U468&psc=0&ref_=lv_ov_lig_dp_it)\n",
    "\n"
   ]
  },
  {
   "cell_type": "code",
   "execution_count": 18,
   "metadata": {
    "colab": {},
    "colab_type": "code",
    "id": "eC39aoK7-eg_"
   },
   "outputs": [],
   "source": [
    "import numpy as np\n",
    "from numpy.linalg import norm"
   ]
  },
  {
   "cell_type": "code",
   "execution_count": 19,
   "metadata": {
    "colab": {},
    "colab_type": "code",
    "id": "6DrNPK2M-ehE"
   },
   "outputs": [],
   "source": [
    "D = 15.8 # [mm] inner diameter of the cylinder (syringe)\n",
    "d = 1.64 # [mm] inner diameter of the syring tip, guage 14\n",
    "\n",
    "TOOL = { # ratio between extruders\n",
    "    0:[1.0,0.0], # left extruder\n",
    "    1:[0.0,1.0], # right extruder\n",
    "    2:[0.5,0.5] # two extruder mixing, for example\n",
    "}\n",
    "\n",
    "\n",
    "\n",
    "gcode_para = { # G code parameters\n",
    "    'D':D, # mm, diameter of the cylinder\n",
    "    'd':d, # mm, diameter of the extruder\n",
    "    'applied_percentage':1, # A ratio factor that controls the extruding ratio.\n",
    "    'TOOL':TOOL,\n",
    "    'feedrate_move':50,\n",
    "    'feedrate_quickmove':1000,\n",
    "    'feedrate_extrude':(d**2) / (330**2),\n",
    "    }"
   ]
  },
  {
   "cell_type": "code",
   "execution_count": 20,
   "metadata": {
    "colab": {},
    "colab_type": "code",
    "id": "qd4H1uHS-ehI"
   },
   "outputs": [],
   "source": [
    "gcode_initial = ''.join([\n",
    "    'G92 Z0;set current z as z=0\\n',\n",
    "    'F{0} set feedrate\\n'.format(gcode_para['feedrate_move']),\n",
    "    'G91; Set to Relative Positioning \\n'])"
   ]
  },
  {
   "cell_type": "code",
   "execution_count": 21,
   "metadata": {
    "colab": {
     "base_uri": "https://localhost:8080/",
     "height": 87
    },
    "colab_type": "code",
    "id": "DUQCPN6B-ehN",
    "outputId": "898e1527-e9b2-4b0d-a874-2d2c99c35554"
   },
   "outputs": [
    {
     "name": "stdout",
     "output_type": "stream",
     "text": [
      "G92 Z0;set current z as z=0\n",
      "F50 set feedrate\n",
      "G91; Set to Relative Positioning \n",
      "\n"
     ]
    }
   ],
   "source": [
    "print(gcode_initial)"
   ]
  },
  {
   "cell_type": "code",
   "execution_count": 22,
   "metadata": {
    "colab": {},
    "colab_type": "code",
    "id": "DMZ_ragf-ehU"
   },
   "outputs": [],
   "source": [
    "def ExtruderRatio(gcode_para):\n",
    "    \"\"\"A function that calculates the extruder ratio. applied_ratio\n",
    "    = (D/d)^2*applied_percentage\n",
    "    @boxiXia;@JacobJ77\n",
    "    \"\"\"\n",
    "    D,d,applied_percentage = gcode_para['D'],gcode_para['d'],gcode_para['applied_percentage']    \n",
    "    ratio = d ** 2 / (D ** 2) # extruder ratio\n",
    "    #applied_percentage: applied percentage for extruding\n",
    "    applied_ratio = ratio * applied_percentage\n",
    "    return applied_ratio"
   ]
  },
  {
   "cell_type": "code",
   "execution_count": 23,
   "metadata": {
    "colab": {},
    "colab_type": "code",
    "id": "c5df3juM-ehZ"
   },
   "outputs": [],
   "source": [
    "extruder_ratio = ExtruderRatio(gcode_para)"
   ]
  },
  {
   "cell_type": "code",
   "execution_count": 24,
   "metadata": {
    "colab": {
     "base_uri": "https://localhost:8080/",
     "height": 35
    },
    "colab_type": "code",
    "id": "tgdTKLjD-ehd",
    "outputId": "ac625e47-d24e-4433-b5d2-935f15c04be4",
    "scrolled": true
   },
   "outputs": [
    {
     "data": {
      "text/plain": [
       "0.010773914436788974"
      ]
     },
     "execution_count": 24,
     "metadata": {},
     "output_type": "execute_result"
    }
   ],
   "source": [
    "extruder_ratio"
   ]
  },
  {
   "cell_type": "code",
   "execution_count": 25,
   "metadata": {
    "colab": {},
    "colab_type": "code",
    "id": "Bu5wRmAW-ehj"
   },
   "outputs": [],
   "source": [
    "path = np.array([\n",
    "    [0.5,0.5,0],\n",
    "    [-0.5,-0.5,0],\n",
    "    [0.5,0.5,0],\n",
    "    [-0.5,-0.5,0],\n",
    "    [0.5,0.5,0],\n",
    "    [1,0,0],\n",
    "    [0,1,0],\n",
    "    [-1,0,0],\n",
    "    [0,-1,0],\n",
    "])*50 # x,y,z relative movement\n",
    "\n",
    "e_path = norm(path,axis=1)*extruder_ratio # extruder path"
   ]
  },
  {
   "cell_type": "code",
   "execution_count": 36,
   "metadata": {
    "colab": {},
    "colab_type": "code",
    "id": "hNrVr0io-ehn"
   },
   "outputs": [],
   "source": [
    "def PrintPath(path,e_path,gcode_para,tool_id = 0):\n",
    "    \n",
    "    mix_ratio = gcode_para['TOOL'][tool_id]\n",
    "    gcode_list = [None for k in range(len(path))]\n",
    "    for i in range(len(path)):\n",
    "        gcode_list[i] = 'G1 X{0:0.5f} Y{1:0.5f} Z{2:0.5f} E{3:0.5f}:{4:.5f} F{5:.5f}\\n'.\\\n",
    "                format(path[i,0],\n",
    "                       path[i,1],\n",
    "                       path[i,2],\n",
    "                       e_path[i] * mix_ratio[0],\n",
    "                       e_path[i] * mix_ratio[1],\n",
    "                       gcode_para['feedrate_move'])\n",
    "    gcode_list.insert(0,'T2;set tool\\n')\n",
    "    return ''.join(gcode_list)"
   ]
  },
  {
   "cell_type": "code",
   "execution_count": 37,
   "metadata": {
    "colab": {},
    "colab_type": "code",
    "id": "VgY0hOWU-ehs"
   },
   "outputs": [],
   "source": [
    "g_code_path = PrintPath(path,e_path,gcode_para)"
   ]
  },
  {
   "cell_type": "code",
   "execution_count": 38,
   "metadata": {
    "colab": {
     "base_uri": "https://localhost:8080/",
     "height": 208
    },
    "colab_type": "code",
    "id": "gm4G9kKb-ehw",
    "outputId": "bc482701-61e3-4152-c4c2-f72c35d59be4",
    "scrolled": true
   },
   "outputs": [
    {
     "name": "stdout",
     "output_type": "stream",
     "text": [
      "T2;set tool\n",
      "G1 X25.00000 Y25.00000 Z0.00000 E0.38092:0.00000 F50.00000\n",
      "G1 X-25.00000 Y-25.00000 Z0.00000 E0.38092:0.00000 F50.00000\n",
      "G1 X25.00000 Y25.00000 Z0.00000 E0.38092:0.00000 F50.00000\n",
      "G1 X-25.00000 Y-25.00000 Z0.00000 E0.38092:0.00000 F50.00000\n",
      "G1 X25.00000 Y25.00000 Z0.00000 E0.38092:0.00000 F50.00000\n",
      "G1 X50.00000 Y0.00000 Z0.00000 E0.53870:0.00000 F50.00000\n",
      "G1 X0.00000 Y50.00000 Z0.00000 E0.53870:0.00000 F50.00000\n",
      "G1 X-50.00000 Y0.00000 Z0.00000 E0.53870:0.00000 F50.00000\n",
      "G1 X0.00000 Y-50.00000 Z0.00000 E0.53870:0.00000 F50.00000\n",
      "\n"
     ]
    }
   ],
   "source": [
    "print(g_code_path)"
   ]
  },
  {
   "cell_type": "code",
   "execution_count": 39,
   "metadata": {
    "colab": {},
    "colab_type": "code",
    "id": "ZUKNxSyT-eh2"
   },
   "outputs": [],
   "source": [
    "g_code_end = \"G0 X-10 Y-10 Z5\\nG90; Set to Absolute Positioning\\n\""
   ]
  },
  {
   "cell_type": "code",
   "execution_count": 40,
   "metadata": {
    "colab": {
     "base_uri": "https://localhost:8080/",
     "height": 295
    },
    "colab_type": "code",
    "id": "-NkgQIlF-eh6",
    "outputId": "3ba5a2a4-63e9-454c-a047-3797867ca1f3"
   },
   "outputs": [
    {
     "name": "stdout",
     "output_type": "stream",
     "text": [
      "G92 Z0;set current z as z=0\n",
      "F50 set feedrate\n",
      "G91; Set to Relative Positioning \n",
      "T2;set tool\n",
      "G1 X25.00000 Y25.00000 Z0.00000 E0.38092:0.00000 F50.00000\n",
      "G1 X-25.00000 Y-25.00000 Z0.00000 E0.38092:0.00000 F50.00000\n",
      "G1 X25.00000 Y25.00000 Z0.00000 E0.38092:0.00000 F50.00000\n",
      "G1 X-25.00000 Y-25.00000 Z0.00000 E0.38092:0.00000 F50.00000\n",
      "G1 X25.00000 Y25.00000 Z0.00000 E0.38092:0.00000 F50.00000\n",
      "G1 X50.00000 Y0.00000 Z0.00000 E0.53870:0.00000 F50.00000\n",
      "G1 X0.00000 Y50.00000 Z0.00000 E0.53870:0.00000 F50.00000\n",
      "G1 X-50.00000 Y0.00000 Z0.00000 E0.53870:0.00000 F50.00000\n",
      "G1 X0.00000 Y-50.00000 Z0.00000 E0.53870:0.00000 F50.00000\n",
      "G0 X-10 Y-10 Z5\n",
      "G90; Set to Absolute Positioning\n",
      "\n"
     ]
    }
   ],
   "source": [
    "s = gcode_initial+g_code_path+g_code_end\n",
    "f = open('square.g','w')\n",
    "f.write(s)\n",
    "f.close()\n",
    "print(s)"
   ]
  },
  {
   "cell_type": "markdown",
   "metadata": {
    "colab_type": "text",
    "id": "b5RS4Y8l-eiA"
   },
   "source": [
    "visualize your code here: https://ncviewer.com/"
   ]
  },
  {
   "cell_type": "code",
   "execution_count": null,
   "metadata": {
    "colab": {},
    "colab_type": "code",
    "id": "OOd8GLZp-eiB"
   },
   "outputs": [],
   "source": []
  },
  {
   "cell_type": "code",
   "execution_count": null,
   "metadata": {},
   "outputs": [],
   "source": []
  }
 ],
 "metadata": {
  "colab": {
   "collapsed_sections": [],
   "include_colab_link": true,
   "name": "Food printing starter code.ipynb",
   "provenance": [],
   "toc_visible": true,
   "version": "0.3.2"
  },
  "kernelspec": {
   "display_name": "Python 3",
   "language": "python",
   "name": "python3"
  },
  "language_info": {
   "codemirror_mode": {
    "name": "ipython",
    "version": 3
   },
   "file_extension": ".py",
   "mimetype": "text/x-python",
   "name": "python",
   "nbconvert_exporter": "python",
   "pygments_lexer": "ipython3",
   "version": "3.6.8"
  }
 },
 "nbformat": 4,
 "nbformat_minor": 1
}
