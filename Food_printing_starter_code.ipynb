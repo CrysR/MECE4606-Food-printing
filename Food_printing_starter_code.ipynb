{
  "nbformat": 4,
  "nbformat_minor": 0,
  "metadata": {
    "colab": {
      "name": "Food printing starter code.ipynb",
      "version": "0.3.2",
      "provenance": [],
      "collapsed_sections": [],
      "toc_visible": true,
      "include_colab_link": true
    },
    "kernelspec": {
      "display_name": "Python 3",
      "language": "python",
      "name": "python3"
    }
  },
  "cells": [
    {
      "cell_type": "markdown",
      "metadata": {
        "id": "view-in-github",
        "colab_type": "text"
      },
      "source": [
        "<a href=\"https://colab.research.google.com/github/boxiXia/MECE4606-Food-printing/blob/master/Food_printing_starter_code.ipynb\" target=\"_parent\"><img src=\"https://colab.research.google.com/assets/colab-badge.svg\" alt=\"Open In Colab\"/></a>"
      ]
    },
    {
      "metadata": {
        "id": "WMGfDo2q-eg7",
        "colab_type": "text"
      },
      "cell_type": "markdown",
      "source": [
        "# Food printing starter code"
      ]
    },
    {
      "metadata": {
        "id": "wCgWSrpF-eg9",
        "colab_type": "text"
      },
      "cell_type": "markdown",
      "source": [
        "# reference for the syringe tip\n",
        "![alt text](https://images-na.ssl-images-amazon.com/images/I/6192oSnVBxL._SL1006_.jpg \"syringe tip reference\")\n",
        "[reference](https://www.amazon.com/dp/B01I1APLIG/?coliid=I1H323R2GGYV4D&colid=1VE48W9F0U468&psc=0&ref_=lv_ov_lig_dp_it)\n",
        "\n"
      ]
    },
    {
      "metadata": {
        "id": "CI22BzHK_6eT",
        "colab_type": "code",
        "colab": {
          "base_uri": "https://localhost:8080/",
          "height": 35
        },
        "outputId": "e2f8fd30-f5b0-4db4-95d7-7fbc27c02a44"
      },
      "cell_type": "code",
      "source": [
        "!pwd"
      ],
      "execution_count": 14,
      "outputs": [
        {
          "output_type": "stream",
          "text": [
            "/content\n"
          ],
          "name": "stdout"
        }
      ]
    },
    {
      "metadata": {
        "id": "eC39aoK7-eg_",
        "colab_type": "code",
        "colab": {}
      },
      "cell_type": "code",
      "source": [
        "import numpy as np\n",
        "from numpy.linalg import norm"
      ],
      "execution_count": 0,
      "outputs": []
    },
    {
      "metadata": {
        "id": "6DrNPK2M-ehE",
        "colab_type": "code",
        "colab": {}
      },
      "cell_type": "code",
      "source": [
        "D = 15.8 # [mm] inner diameter of the cylinder (syringe)\n",
        "d = 1.64 # [mm] inner diameter of the syring tip, guage 14\n",
        "\n",
        "TOOL = { # ratio between extruders\n",
        "    0:[1.0,0.0], # left extruder\n",
        "    1:[0.0,1.0], # right extruder\n",
        "    2:[0.5,0.5] # two extruder mixing, for example\n",
        "}\n",
        "\n",
        "\n",
        "\n",
        "gcode_para = { # G code parameters\n",
        "    'D':D, # mm, diameter of the cylinder\n",
        "    'd':d, # mm, diameter of the extruder\n",
        "    'applied_percentage':1, # A ratio factor that controls the extruding ratio.\n",
        "    'TOOL':TOOL,\n",
        "    'feedrate_move':50,\n",
        "    'feedrate_quickmove':1000,\n",
        "    'feedrate_extrude':(d**2) / (330**2),\n",
        "    }"
      ],
      "execution_count": 0,
      "outputs": []
    },
    {
      "metadata": {
        "id": "qd4H1uHS-ehI",
        "colab_type": "code",
        "colab": {}
      },
      "cell_type": "code",
      "source": [
        "gcode_initial = ''.join([\n",
        "    'G92 Z0;set current z as z=0\\n',\n",
        "    'F{0} set feedrate\\n'.format(gcode_para['feedrate_move']),\n",
        "    'G91; Set to Relative Positioning \\n'])"
      ],
      "execution_count": 0,
      "outputs": []
    },
    {
      "metadata": {
        "id": "DUQCPN6B-ehN",
        "colab_type": "code",
        "colab": {
          "base_uri": "https://localhost:8080/",
          "height": 87
        },
        "outputId": "898e1527-e9b2-4b0d-a874-2d2c99c35554"
      },
      "cell_type": "code",
      "source": [
        "print(gcode_initial)"
      ],
      "execution_count": 4,
      "outputs": [
        {
          "output_type": "stream",
          "text": [
            "G92 Z0;set current z as z=0\n",
            "F50 set feedrate\n",
            "G91; Set to Relative Positioning \n",
            "\n"
          ],
          "name": "stdout"
        }
      ]
    },
    {
      "metadata": {
        "id": "DMZ_ragf-ehU",
        "colab_type": "code",
        "colab": {}
      },
      "cell_type": "code",
      "source": [
        "def ExtruderRatio(gcode_para):\n",
        "    \"\"\"A function that calculates the extruder ratio. applied_ratio\n",
        "    = (D/d)^2*applied_percentage\n",
        "    @boxiXia;@JacobJ77\n",
        "    \"\"\"\n",
        "    D,d,applied_percentage = gcode_para['D'],gcode_para['d'],gcode_para['applied_percentage']    \n",
        "    ratio = d ** 2 / (D ** 2) # extruder ratio\n",
        "    #applied_percentage: applied percentage for extruding\n",
        "    applied_ratio = ratio * applied_percentage\n",
        "    return applied_ratio"
      ],
      "execution_count": 0,
      "outputs": []
    },
    {
      "metadata": {
        "id": "c5df3juM-ehZ",
        "colab_type": "code",
        "colab": {}
      },
      "cell_type": "code",
      "source": [
        "extruder_ratio = ExtruderRatio(gcode_para)"
      ],
      "execution_count": 0,
      "outputs": []
    },
    {
      "metadata": {
        "scrolled": true,
        "id": "tgdTKLjD-ehd",
        "colab_type": "code",
        "colab": {
          "base_uri": "https://localhost:8080/",
          "height": 35
        },
        "outputId": "ac625e47-d24e-4433-b5d2-935f15c04be4"
      },
      "cell_type": "code",
      "source": [
        "extruder_ratio"
      ],
      "execution_count": 7,
      "outputs": [
        {
          "output_type": "execute_result",
          "data": {
            "text/plain": [
              "0.010773914436788974"
            ]
          },
          "metadata": {
            "tags": []
          },
          "execution_count": 7
        }
      ]
    },
    {
      "metadata": {
        "id": "Bu5wRmAW-ehj",
        "colab_type": "code",
        "colab": {}
      },
      "cell_type": "code",
      "source": [
        "path = np.array([\n",
        "    [0.5,0.5,0],\n",
        "    [-0.5,-0.5,0],\n",
        "    [0.5,0.5,0],\n",
        "    [-0.5,-0.5,0],\n",
        "    [0.5,0.5,0],\n",
        "    [1,0,0],\n",
        "    [0,1,0],\n",
        "    [-1,0,0],\n",
        "    [0,-1,0],\n",
        "])*50 # x,y,z relative movement\n",
        "\n",
        "e_path = norm(path,axis=1)*extruder_ratio # extruder path"
      ],
      "execution_count": 0,
      "outputs": []
    },
    {
      "metadata": {
        "id": "hNrVr0io-ehn",
        "colab_type": "code",
        "colab": {}
      },
      "cell_type": "code",
      "source": [
        "def PrintPath(path,e_path,gcode_para,tool_id = 0):\n",
        "    \n",
        "    mix_ratio = gcode_para['TOOL'][tool_id]\n",
        "    gcode_list = [None for k in range(len(path))]\n",
        "    for i in range(len(path)):\n",
        "        gcode_list[i] = 'G1 X{0:0.5f} Y{1:0.5f} Z{2:0.5f} E{3:0.5f}:{4:.5f}:{5:.5f}\\n'.\\\n",
        "                format(path[i,0],\n",
        "                       path[i,1],\n",
        "                       path[i,2],\n",
        "                       e_path[i] * mix_ratio[0],\n",
        "                       e_path[i] * mix_ratio[1],\n",
        "                       gcode_para['feedrate_move'])\n",
        "    gcode_list.insert(0,'T2;set tool\\n')\n",
        "    return ''.join(gcode_list)"
      ],
      "execution_count": 0,
      "outputs": []
    },
    {
      "metadata": {
        "id": "VgY0hOWU-ehs",
        "colab_type": "code",
        "colab": {}
      },
      "cell_type": "code",
      "source": [
        "g_code_path = PrintPath(path,e_path,gcode_para)"
      ],
      "execution_count": 0,
      "outputs": []
    },
    {
      "metadata": {
        "scrolled": true,
        "id": "gm4G9kKb-ehw",
        "colab_type": "code",
        "colab": {
          "base_uri": "https://localhost:8080/",
          "height": 208
        },
        "outputId": "bc482701-61e3-4152-c4c2-f72c35d59be4"
      },
      "cell_type": "code",
      "source": [
        "print(g_code_path)"
      ],
      "execution_count": 11,
      "outputs": [
        {
          "output_type": "stream",
          "text": [
            "T2;set tool\n",
            "G1 X25.00000 Y25.00000 Z0.00000 E0.38092:0.00000:50.00000\n",
            "G1 X-25.00000 Y-25.00000 Z0.00000 E0.38092:0.00000:50.00000\n",
            "G1 X25.00000 Y25.00000 Z0.00000 E0.38092:0.00000:50.00000\n",
            "G1 X-25.00000 Y-25.00000 Z0.00000 E0.38092:0.00000:50.00000\n",
            "G1 X25.00000 Y25.00000 Z0.00000 E0.38092:0.00000:50.00000\n",
            "G1 X50.00000 Y0.00000 Z0.00000 E0.53870:0.00000:50.00000\n",
            "G1 X0.00000 Y50.00000 Z0.00000 E0.53870:0.00000:50.00000\n",
            "G1 X-50.00000 Y0.00000 Z0.00000 E0.53870:0.00000:50.00000\n",
            "G1 X0.00000 Y-50.00000 Z0.00000 E0.53870:0.00000:50.00000\n",
            "\n"
          ],
          "name": "stdout"
        }
      ]
    },
    {
      "metadata": {
        "id": "ZUKNxSyT-eh2",
        "colab_type": "code",
        "colab": {}
      },
      "cell_type": "code",
      "source": [
        "g_code_end = \"G0 X-10 Y-10 Z5\\nG90; Set to Absolute Positioning\\n\""
      ],
      "execution_count": 0,
      "outputs": []
    },
    {
      "metadata": {
        "id": "-NkgQIlF-eh6",
        "colab_type": "code",
        "colab": {
          "base_uri": "https://localhost:8080/",
          "height": 295
        },
        "outputId": "3ba5a2a4-63e9-454c-a047-3797867ca1f3"
      },
      "cell_type": "code",
      "source": [
        "s = gcode_initial+g_code_path+g_code_end\n",
        "f = open('square.g','w')\n",
        "f.write(s)\n",
        "f.close()\n",
        "print(s)"
      ],
      "execution_count": 13,
      "outputs": [
        {
          "output_type": "stream",
          "text": [
            "G92 Z0;set current z as z=0\n",
            "F50 set feedrate\n",
            "G91; Set to Relative Positioning \n",
            "T2;set tool\n",
            "G1 X25.00000 Y25.00000 Z0.00000 E0.38092:0.00000:50.00000\n",
            "G1 X-25.00000 Y-25.00000 Z0.00000 E0.38092:0.00000:50.00000\n",
            "G1 X25.00000 Y25.00000 Z0.00000 E0.38092:0.00000:50.00000\n",
            "G1 X-25.00000 Y-25.00000 Z0.00000 E0.38092:0.00000:50.00000\n",
            "G1 X25.00000 Y25.00000 Z0.00000 E0.38092:0.00000:50.00000\n",
            "G1 X50.00000 Y0.00000 Z0.00000 E0.53870:0.00000:50.00000\n",
            "G1 X0.00000 Y50.00000 Z0.00000 E0.53870:0.00000:50.00000\n",
            "G1 X-50.00000 Y0.00000 Z0.00000 E0.53870:0.00000:50.00000\n",
            "G1 X0.00000 Y-50.00000 Z0.00000 E0.53870:0.00000:50.00000\n",
            "G0 X-10 Y-10 Z5\n",
            "G90; Set to Absolute Positioning\n",
            "\n"
          ],
          "name": "stdout"
        }
      ]
    },
    {
      "metadata": {
        "id": "b5RS4Y8l-eiA",
        "colab_type": "text"
      },
      "cell_type": "markdown",
      "source": [
        "visualize your code here: https://ncviewer.com/"
      ]
    },
    {
      "metadata": {
        "id": "OOd8GLZp-eiB",
        "colab_type": "code",
        "colab": {}
      },
      "cell_type": "code",
      "source": [
        ""
      ],
      "execution_count": 0,
      "outputs": []
    }
  ]
}